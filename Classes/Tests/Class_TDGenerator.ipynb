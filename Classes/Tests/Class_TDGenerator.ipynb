{
 "cells": [
  {
   "cell_type": "code",
   "execution_count": 1,
   "metadata": {},
   "outputs": [],
   "source": [
    "import sys\n",
    "sys.path.append(\"../\")\n",
    "\n",
    "from TDGenerator import TDGenerator"
   ]
  },
  {
   "cell_type": "markdown",
   "metadata": {},
   "source": [
    "# Create TDGenerator object"
   ]
  },
  {
   "cell_type": "code",
   "execution_count": 2,
   "metadata": {},
   "outputs": [],
   "source": [
    "generator = TDGenerator(\"ifc:cogitoIFC1\")"
   ]
  },
  {
   "cell_type": "markdown",
   "metadata": {},
   "source": [
    "# Query to triple store"
   ]
  },
  {
   "cell_type": "code",
   "execution_count": 3,
   "metadata": {},
   "outputs": [],
   "source": [
    "generator.query_triple_store()"
   ]
  },
  {
   "cell_type": "code",
   "execution_count": 9,
   "metadata": {},
   "outputs": [
    {
     "data": {
      "text/plain": [
       "['https://brickschema.org/schema/1.1/Brick#Floor',\n",
       " 'https://pi.pauwel.be/voc/buildingelement#Window',\n",
       " 'https://brickschema.org/schema/1.1/Brick#Building',\n",
       " 'https://brickschema.org/schema/1.1/Brick#Location',\n",
       " 'https://brickschema.org/schema/1.1/Brick#Space']"
      ]
     },
     "execution_count": 9,
     "metadata": {},
     "output_type": "execute_result"
    }
   ],
   "source": [
    "generator.query_results[0:5]"
   ]
  },
  {
   "cell_type": "markdown",
   "metadata": {},
   "source": [
    "# Load Template"
   ]
  },
  {
   "cell_type": "code",
   "execution_count": 5,
   "metadata": {},
   "outputs": [
    {
     "data": {
      "text/plain": [
       "'td.template.txt'"
      ]
     },
     "execution_count": 5,
     "metadata": {},
     "output_type": "execute_result"
    }
   ],
   "source": [
    "path = '../templates/'\n",
    "generator.load_template(path)\n",
    "generator.template_name"
   ]
  },
  {
   "cell_type": "code",
   "execution_count": 6,
   "metadata": {},
   "outputs": [
    {
     "data": {
      "text/plain": [
       "<wheezy.template.engine.Template at 0x7f2440332fc0>"
      ]
     },
     "execution_count": 6,
     "metadata": {},
     "output_type": "execute_result"
    }
   ],
   "source": [
    "generator.template"
   ]
  },
  {
   "cell_type": "markdown",
   "metadata": {},
   "source": [
    "# Generate information that is going to be used in the template\n",
    "## This is going to be in a for loop"
   ]
  },
  {
   "cell_type": "code",
   "execution_count": 7,
   "metadata": {},
   "outputs": [
    {
     "data": {
      "text/plain": [
       "{'prefixes': [{'name': 'beo',\n",
       "   'url': 'https://pi.pauwel.be/voc/buildingelement#'}],\n",
       " 'id': 'ifc:cogitoIFC1',\n",
       " 'types': ['bot:Building'],\n",
       " 'description': 'A building element.',\n",
       " 'properties': [{'name': 'IFC',\n",
       "   'uri': 'https://example_uri.com/files/cogito1234.ifc',\n",
       "   'type': 'application/ifc'},\n",
       "  {'name': 'KnowledgeGraph',\n",
       "   'uri': 'https://openmetrics.eu/openmetrics#Building_120',\n",
       "   'type': 'text/turtle'}]}"
      ]
     },
     "execution_count": 7,
     "metadata": {},
     "output_type": "execute_result"
    }
   ],
   "source": [
    "generator.info_to_render()\n",
    "generator.render_info"
   ]
  },
  {
   "cell_type": "markdown",
   "metadata": {},
   "source": [
    "# Generate Thing Description"
   ]
  },
  {
   "cell_type": "code",
   "execution_count": 8,
   "metadata": {},
   "outputs": [
    {
     "data": {
      "text/plain": [
       "['{\\n    \"@context\": [\\n        \"https://www.w3.org/2019/wot/td/v1\",\\n        {\\n            \"beo\": \"https://pi.pauwel.be/voc/buildingelement#)\"\\n        }\\n    ],\\n    \"@id\": \"ifc:cogitoIFC1\",\\n    \"@type\": \"bot:Building\",\\n    \"description\": \"Abuildingelement.\",\\n    \"properties\": {\\n        \"IFC\": {\\n            \"forms\": [\\n                {\\n                    \"href\": \"https://example_uri.com/files/cogito1234.ifc\",\\n                    \"type\": \"application/ifc\"\\n                }\\n            ]\\n        },\\n        \"KnowledgeGraph\": {\\n            \"forms\": [\\n                {\\n                    \"href\": \"https://openmetrics.eu/openmetrics#Building_120\",\\n                    \"type\": \"text/turtle\"\\n                }\\n            ]\\n        }\\n    },\\n    \"security\": [\\n        \"no_sec\"\\n    ],\\n    \"securityDefinitions\": {\\n        \"no_sec\": {\\n            \"scheme\": \"none\"\\n        }\\n    },\\n    \"title\": \"ifc:cogitoIFC1\"\\n}']"
      ]
     },
     "execution_count": 8,
     "metadata": {},
     "output_type": "execute_result"
    }
   ],
   "source": [
    "generator.generate_td()\n",
    "generator.tds"
   ]
  },
  {
   "cell_type": "code",
   "execution_count": null,
   "metadata": {},
   "outputs": [],
   "source": []
  }
 ],
 "metadata": {
  "interpreter": {
   "hash": "31f2aee4e71d21fbe5cf8b01ff0e069b9275f58929596ceb00d14d90e3e16cd6"
  },
  "kernelspec": {
   "display_name": "Python 3.6.9 64-bit",
   "language": "python",
   "name": "python3"
  },
  "language_info": {
   "codemirror_mode": {
    "name": "ipython",
    "version": 3
   },
   "file_extension": ".py",
   "mimetype": "text/x-python",
   "name": "python",
   "nbconvert_exporter": "python",
   "pygments_lexer": "ipython3",
   "version": "3.6.9"
  },
  "orig_nbformat": 4
 },
 "nbformat": 4,
 "nbformat_minor": 2
}
